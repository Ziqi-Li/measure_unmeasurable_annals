{
 "cells": [
  {
   "cell_type": "code",
   "execution_count": 1,
   "metadata": {},
   "outputs": [],
   "source": [
    "import numpy as np\n",
    "import pandas as pd\n",
    "import geopandas as gpd\n",
    "import seaborn as sns\n",
    "from gstools import SRF, Gaussian,CovModel\n",
    "import matplotlib.pyplot as plt"
   ]
  },
  {
   "cell_type": "code",
   "execution_count": 2,
   "metadata": {},
   "outputs": [],
   "source": [
    "import matplotlib\n",
    "matplotlib.rcParams.update({'font.size': 12})"
   ]
  },
  {
   "cell_type": "code",
   "execution_count": 3,
   "metadata": {},
   "outputs": [],
   "source": [
    "class GWR_gau(CovModel):\n",
    "    def correlation(self,r):\n",
    "        return np.exp(-0.5*(r/self.len_scale)**2)"
   ]
  },
  {
   "cell_type": "code",
   "execution_count": 4,
   "metadata": {},
   "outputs": [],
   "source": [
    "size=40\n",
    "model = GWR_gau(dim=2, var=1,len_scale=6)\n",
    "srf = SRF(model,mean=0,seed=555)\n",
    "b0 = srf.structured([range(size),range(size)]).reshape(-1)\n",
    "b0 = (b0 - b0.mean())/b0.std() + 2"
   ]
  },
  {
   "cell_type": "code",
   "execution_count": 5,
   "metadata": {},
   "outputs": [],
   "source": [
    "size=40\n",
    "model = GWR_gau(dim=2, var=1,len_scale=12)\n",
    "srf = SRF(model,mean=0,seed=888)\n",
    "b1 = srf.structured([range(size),range(size)]).reshape(-1)\n",
    "b1 = (b1 - b1.mean())/b1.std() + 2"
   ]
  },
  {
   "cell_type": "code",
   "execution_count": 6,
   "metadata": {},
   "outputs": [],
   "source": [
    "b2 = np.ones(size*size).reshape(-1)*2"
   ]
  },
  {
   "cell_type": "code",
   "execution_count": null,
   "metadata": {},
   "outputs": [],
   "source": []
  },
  {
   "cell_type": "code",
   "execution_count": 7,
   "metadata": {},
   "outputs": [],
   "source": [
    "def plot_1(b,title='',vmin=None,vmax=None):\n",
    "    plt.imshow(b.reshape(size,size),cmap=plt.cm.get_cmap('viridis',8),vmin=vmin,vmax=vmax)\n",
    "    plt.title(title)\n",
    "    plt.colorbar()\n",
    "    \n",
    "def plot_s(b,sub_title=['','','',''],vmin=None,vmax=None):\n",
    "    k = len(b)\n",
    "    fig, axs = plt.subplots(1, k,figsize=(6*k,4))\n",
    "    for i in range(k):\n",
    "        if i == 0:\n",
    "            ax = axs[i].imshow(b[i].reshape(size,size),\n",
    "                               cmap=plt.cm.get_cmap('viridis',21),vmin=vmin,vmax=vmax)\n",
    "        else:\n",
    "            ax = axs[i].imshow(b[i].reshape(size,size),cmap=plt.cm.get_cmap('viridis',21),vmin=vmin,vmax=vmax)\n",
    "        axs[i].set_title(sub_title[i],fontsize=16)\n",
    "        fig.colorbar(ax, ax=axs[i])\n",
    "\n",
    "        axs[i].set_xticks(np.arange(-0.5, 40, 5))\n",
    "        axs[i].set_yticks(np.arange(-0.5, 40, 5))\n",
    "        axs[i].set_xticklabels([])\n",
    "        axs[i].set_yticklabels([])\n",
    "        \n",
    "        axs[i].tick_params(axis='x', colors=(0,0,0,0))\n",
    "        axs[i].tick_params(axis='y', colors=(0,0,0,0))\n",
    "        \n",
    "        #axs[i].grid(color='black', linewidth=1)\n",
    "        \n",
    "\n",
    "    #fig.suptitle(title, fontsize=16)"
   ]
  },
  {
   "cell_type": "code",
   "execution_count": 8,
   "metadata": {},
   "outputs": [
    {
     "data": {
      "image/png": "[encoded data removed]",
      "text/plain": [
       "<Figure size 1296x288 with 6 Axes>"
      ]
     },
     "metadata": {
      "needs_background": "light"
     },
     "output_type": "display_data"
    }
   ],
   "source": [
    "plot_s(np.vstack([b0,b1,b2]),[r\"True $\\beta_0$\",r\"True $\\beta_1$\",r\"True $\\beta_2$\"],vmin=0,vmax=4)"
   ]
  },
  {
   "cell_type": "code",
   "execution_count": 9,
   "metadata": {},
   "outputs": [],
   "source": [
    "true = pd.DataFrame(np.array([b0,b1,b2]).T)"
   ]
  },
  {
   "cell_type": "code",
   "execution_count": null,
   "metadata": {},
   "outputs": [],
   "source": []
  },
  {
   "cell_type": "code",
   "execution_count": 10,
   "metadata": {},
   "outputs": [],
   "source": [
    "np.random.seed(222)\n",
    "X1 = np.random.randn(size*size)*1\n",
    "X2 = np.random.randn(size*size)*1\n",
    "X3 = np.random.randn(size*size)*1\n",
    "\n",
    "X = np.vstack([X1,X2]).T\n",
    "u = np.array([np.linspace(0,size-1,num=size)]*size).reshape(-1)\n",
    "v = np.array([np.linspace(0,size-1,num=size)]*size).T.reshape(-1)\n",
    "coords = list(zip(u,v))\n",
    "\n",
    "k = X.shape[1];n = X.shape[0]"
   ]
  },
  {
   "cell_type": "code",
   "execution_count": 11,
   "metadata": {},
   "outputs": [],
   "source": [
    "f0 = b0\n",
    "f1 = b1*X1\n",
    "f2 = b2*X2"
   ]
  },
  {
   "cell_type": "code",
   "execution_count": null,
   "metadata": {},
   "outputs": [],
   "source": []
  },
  {
   "cell_type": "code",
   "execution_count": 12,
   "metadata": {},
   "outputs": [],
   "source": [
    "sem_knn_mc = pd.read_csv(\"sem_knn_mc_results.csv\",index_col=0)\n",
    "sem_queen_mc = pd.read_csv(\"sem_queen_mc_results.csv\",index_col=0)\n",
    "mgwr_mc = pd.read_csv(\"mgwr_mc_results.csv\",index_col=0)"
   ]
  },
  {
   "cell_type": "code",
   "execution_count": 13,
   "metadata": {},
   "outputs": [],
   "source": [
    "mlm_4_mc = pd.read_csv(\"MLM/mlm_4_mc.csv\")\n",
    "mlm_8_mc = pd.read_csv(\"MLM/mlm_8_mc.csv\")\n",
    "mlm_residual = pd.read_csv(\"MLM/mlm_res_mc_results.csv\")"
   ]
  },
  {
   "cell_type": "code",
   "execution_count": 14,
   "metadata": {},
   "outputs": [],
   "source": [
    "mc_results = pd.concat([sem_knn_mc,sem_queen_mc,mgwr_mc,mlm_4_mc,mlm_8_mc,mlm_residual],axis=1)"
   ]
  },
  {
   "cell_type": "code",
   "execution_count": 15,
   "metadata": {},
   "outputs": [
    {
     "data": {
      "image/png": "[encoded data removed]",
      "text/plain": [
       "<Figure size 432x576 with 1 Axes>"
      ]
     },
     "metadata": {
      "needs_background": "light"
     },
     "output_type": "display_data"
    }
   ],
   "source": [
    "fig, ax = plt.subplots(1, 1,figsize=(6,8))\n",
    "plt.title(r\"$\\beta_0$ Est\",fontsize=16)\n",
    "\n",
    "mc = mc_results[['semq_b0_est','semk_b0_est','mlm_4_b0', 'mlm_8_b0', 'mgwr_b0_est']]\n",
    "mc.columns = ['SEM \\n(Queen)', 'SEM \\n(KNN)', \"MLM \\n(4X4)\", \"MLM \\n(8X8)\", 'MGWR']\n",
    "df_melt = pd.melt(mc)\n",
    "df_melt.columns = ['Model','Value']\n",
    "\n",
    "sns.boxplot(x=\"Model\", y=\"Value\", data=df_melt,ax=ax)\n",
    "ax.set(xlabel=None)\n",
    "ax.set(ylabel=None)\n",
    "ax.set_ylim(-0.1,1.1)\n",
    "plt.axhline(y=0.0, color='black', linestyle='--')\n",
    "\n",
    "plt.savefig('MC_results_b0.png',dpi=300)"
   ]
  },
  {
   "cell_type": "code",
   "execution_count": 16,
   "metadata": {},
   "outputs": [
    {
     "data": {
      "image/png": "[encoded data removed]",
      "text/plain": [
       "<Figure size 432x576 with 1 Axes>"
      ]
     },
     "metadata": {
      "needs_background": "light"
     },
     "output_type": "display_data"
    }
   ],
   "source": [
    "fig, ax = plt.subplots(1, 1,figsize=(6,8))\n",
    "plt.title(r\"$\\beta_1$ Est\",fontsize=16)\n",
    "\n",
    "mc = mc_results[['semq_b1_est','semk_b1_est','mlm_4_b1', 'mlm_8_b1', 'mgwr_b1_est']]\n",
    "mc.columns = ['SEM \\n(Queen)', 'SEM \\n(KNN)', \"MLM \\n(4X4)\", \"MLM \\n(8X8)\", 'MGWR']\n",
    "df_melt = pd.melt(mc)\n",
    "df_melt.columns = ['Model','Value']\n",
    "\n",
    "sns.boxplot(x=\"Model\", y=\"Value\", data=df_melt,ax=ax)\n",
    "ax.set(xlabel=None)\n",
    "ax.set(ylabel=None)\n",
    "ax.set_ylim(-0.1,1.1)\n",
    "plt.axhline(y=0.0, color='black', linestyle='--')\n",
    "\n",
    "plt.savefig('MC_results_b1.png',dpi=300)"
   ]
  },
  {
   "cell_type": "code",
   "execution_count": null,
   "metadata": {},
   "outputs": [],
   "source": []
  },
  {
   "cell_type": "code",
   "execution_count": 17,
   "metadata": {},
   "outputs": [
    {
     "data": {
      "image/png": "[encoded data removed]",
      "text/plain": [
       "<Figure size 432x576 with 1 Axes>"
      ]
     },
     "metadata": {
      "needs_background": "light"
     },
     "output_type": "display_data"
    }
   ],
   "source": [
    "fig, ax = plt.subplots(1, 1,figsize=(6,8))\n",
    "plt.title(r\"$\\beta_2$ Est\",fontsize=16)\n",
    "\n",
    "mc = mc_results[['semq_b2_est','semk_b2_est','mlm_4_b2', 'mlm_8_b2', 'mgwr_b2_est']]\n",
    "mc.columns = ['SEM \\n(Queen)', 'SEM \\n(KNN)', \"MLM \\n(4X4)\", \"MLM \\n(8X8)\", 'MGWR']\n",
    "df_melt = pd.melt(mc)\n",
    "df_melt.columns = ['Model','Value']\n",
    "\n",
    "sns.boxplot(x=\"Model\", y=\"Value\", data=df_melt,ax=ax)\n",
    "ax.set(xlabel=None)\n",
    "ax.set(ylabel=None)\n",
    "ax.set_ylim(-0.1,1.1)\n",
    "plt.axhline(y=0.0, color='black', linestyle='--')\n",
    "\n",
    "plt.savefig('MC_results_b2.png',dpi=300)"
   ]
  },
  {
   "cell_type": "code",
   "execution_count": null,
   "metadata": {},
   "outputs": [],
   "source": []
  },
  {
   "cell_type": "code",
   "execution_count": 18,
   "metadata": {},
   "outputs": [
    {
     "data": {
      "text/plain": [
       "(1000, 3)"
      ]
     },
     "execution_count": 18,
     "metadata": {},
     "output_type": "execute_result"
    }
   ],
   "source": [
    "mlm_residual.shape"
   ]
  },
  {
   "cell_type": "code",
   "execution_count": 19,
   "metadata": {},
   "outputs": [
    {
     "data": {
      "image/png": "[encoded data removed]",
      "text/plain": [
       "<Figure size 432x432 with 1 Axes>"
      ]
     },
     "metadata": {
      "needs_background": "light"
     },
     "output_type": "display_data"
    }
   ],
   "source": [
    "fig, ax = plt.subplots(1, 1,figsize=(6,6))\n",
    "plt.title(\"Moran's I\",fontsize=16)\n",
    "\n",
    "mc = mc_results[['semq_moran','semk_moran','mlm_4_res','mlm_8_res','mgwr_moran']]\n",
    "mc.columns = ['SEM \\n(Queen)', 'SEM \\n(KNN)', \"MLM \\n(4X4)\", \"MLM \\n(8X8)\", 'MGWR']\n",
    "df_melt = pd.melt(mc)\n",
    "df_melt.columns = ['Model','Value']\n",
    "\n",
    "sns.boxplot(x=\"Model\", y=\"Value\", data=df_melt,ax=ax)\n",
    "ax.set(xlabel=None)\n",
    "ax.set(ylabel=None)\n",
    "plt.axhline(y=0.0, color='black', linestyle='--')\n",
    "\n",
    "ax.set_ylim(-0.3,0.4)\n",
    "\n",
    "plt.savefig('MC_results_moran.png',dpi=300)"
   ]
  },
  {
   "cell_type": "code",
   "execution_count": null,
   "metadata": {},
   "outputs": [],
   "source": []
  },
  {
   "cell_type": "code",
   "execution_count": null,
   "metadata": {},
   "outputs": [],
   "source": []
  },
  {
   "cell_type": "code",
   "execution_count": null,
   "metadata": {},
   "outputs": [],
   "source": []
  }
 ],
 "metadata": {
  "kernelspec": {
   "display_name": "Python 3",
   "language": "python",
   "name": "python3"
  },
  "language_info": {
   "codemirror_mode": {
    "name": "ipython",
    "version": 3
   },
   "file_extension": ".py",
   "mimetype": "text/x-python",
   "name": "python",
   "nbconvert_exporter": "python",
   "pygments_lexer": "ipython3",
   "version": "3.7.6"
  }
 },
 "nbformat": 4,
 "nbformat_minor": 4
}
