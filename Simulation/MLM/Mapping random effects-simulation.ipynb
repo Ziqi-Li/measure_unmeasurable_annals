{
 "cells": [
  {
   "cell_type": "markdown",
   "metadata": {},
   "source": [
    "## Mapping random effects obtained from lme4\n",
    "\n",
    "This notebook shows how to map the random effects using the outputs in R.\n",
    "\n"
   ]
  },
  {
   "cell_type": "code",
   "execution_count": 1,
   "metadata": {},
   "outputs": [],
   "source": [
    "import geopandas as gpd\n",
    "import pandas as pd\n",
    "import numpy as np\n",
    "import matplotlib.pyplot as plt"
   ]
  },
  {
   "cell_type": "code",
   "execution_count": 18,
   "metadata": {},
   "outputs": [],
   "source": [
    "size=4"
   ]
  },
  {
   "cell_type": "code",
   "execution_count": 40,
   "metadata": {},
   "outputs": [],
   "source": [
    "def plot_1(b,title='',vmin=None,vmax=None):\n",
    "    plt.imshow(b.reshape(size,size),cmap=plt.cm.get_cmap('RdBu_r',5),vmin=vmin,vmax=vmax)\n",
    "    plt.title(title)\n",
    "    plt.colorbar()\n",
    "    \n",
    "def plot_s(b,sub_title=['','','',''],vmin=None,vmax=None, cmap=plt.cm.get_cmap('viridis',21)):\n",
    "    k = len(b)\n",
    "    fig, axs = plt.subplots(1, k,figsize=(6*k,4))\n",
    "    for i in range(k):\n",
    "\n",
    "        ax = axs[i].imshow(b[i].reshape(size,size),cmap,vmin=vmin,vmax=vmax)\n",
    "        axs[i].set_title(sub_title[i],fontsize=16)\n",
    "        fig.colorbar(ax, ax=axs[i])\n",
    "        \n",
    "        axs[i].set_xticks(np.arange(-0.51, size-0.01, 1))\n",
    "        axs[i].set_yticks(np.arange(-0.51, size-0.01, 1))\n",
    "        \n",
    "        axs[i].set_xticklabels([])\n",
    "        axs[i].set_yticklabels([])\n",
    "        \n",
    "        axs[i].tick_params(axis='x', colors=(0,0,0,0))\n",
    "        axs[i].tick_params(axis='y', colors=(0,0,0,0))\n",
    "        \n",
    "        axs[i].grid(color='black', linewidth=0.5)\n",
    "        \n",
    "\n",
    "    #fig.suptitle(title, fontsize=16)"
   ]
  },
  {
   "cell_type": "code",
   "execution_count": 4,
   "metadata": {},
   "outputs": [],
   "source": [
    "true = pd.read_csv(\"sim_data_small.csv\")"
   ]
  },
  {
   "cell_type": "code",
   "execution_count": 5,
   "metadata": {},
   "outputs": [],
   "source": [
    "def shrink(data, rows, cols):\n",
    "    return data.reshape(rows, int(data.shape[0]/rows), cols, int(data.shape[1]/cols)).mean(axis=1).mean(axis=2)"
   ]
  },
  {
   "cell_type": "markdown",
   "metadata": {},
   "source": [
    "### Reading in the random effects"
   ]
  },
  {
   "cell_type": "code",
   "execution_count": 52,
   "metadata": {},
   "outputs": [],
   "source": [
    "size=4\n",
    "re = pd.read_csv(\"re.csv\")\n",
    "fe = pd.read_csv(\"fe.csv\")"
   ]
  },
  {
   "cell_type": "code",
   "execution_count": 53,
   "metadata": {},
   "outputs": [],
   "source": [
    "re.iloc[:,1:] = re.iloc[:,1:] + fe.iloc[:,1:].values"
   ]
  },
  {
   "cell_type": "markdown",
   "metadata": {},
   "source": [
    "Re-name the columns"
   ]
  },
  {
   "cell_type": "code",
   "execution_count": 54,
   "metadata": {},
   "outputs": [],
   "source": [
    "re.columns = ['id','Intercept','beta1','beta2']"
   ]
  },
  {
   "cell_type": "code",
   "execution_count": 55,
   "metadata": {},
   "outputs": [
    {
     "data": {
      "image/png": "[encoded data removed]",
      "text/plain": [
       "<Figure size 1296x288 with 6 Axes>"
      ]
     },
     "metadata": {
      "needs_background": "light"
     },
     "output_type": "display_data"
    }
   ],
   "source": [
    "plot_s(re.iloc[:,1:].values.T,sub_title=[r'MLM (4X4) $\\beta_0$ est',r'MLM (4X4) $\\beta_1$ est',\n",
    "                                         r'MLM (4X4) $\\beta_2$ est'],vmin=0,vmax=4)\n",
    "\n",
    "plt.savefig(\"MLM est 4 by 4.png\",dpi=300)"
   ]
  },
  {
   "cell_type": "code",
   "execution_count": null,
   "metadata": {},
   "outputs": [],
   "source": []
  },
  {
   "cell_type": "code",
   "execution_count": 10,
   "metadata": {},
   "outputs": [
    {
     "data": {
      "image/png": "[encoded data removed]",
      "text/plain": [
       "<Figure size 1296x288 with 6 Axes>"
      ]
     },
     "metadata": {
      "needs_background": "light"
     },
     "output_type": "display_data"
    }
   ],
   "source": [
    "plot_s([shrink(true.b0.values.reshape(40,40),4,4).reshape(-1),\n",
    " shrink(true.b1.values.reshape(40,40),4,4).reshape(-1),\n",
    " shrink(true.b2.values.reshape(40,40),4,4).reshape(-1)],sub_title=[r'True (4X4) $\\beta_0$',\n",
    "                                           r'True (4X4) $\\beta_1$',\n",
    "                                           r'True (4X4) $\\beta_2$'],vmin=0,vmax=4)\n",
    "\n",
    "#plt.savefig(\"MLM est 4 by 4.png\",dpi=300)\n"
   ]
  },
  {
   "cell_type": "code",
   "execution_count": 331,
   "metadata": {},
   "outputs": [
    {
     "name": "stdout",
     "output_type": "stream",
     "text": [
      "0.04638876524992208\n",
      "0.07191340183534861\n",
      "0.01328471771714277\n"
     ]
    }
   ],
   "source": [
    "print(np.std(shrink(true.b0.values.reshape(40,40),4,4) - re.iloc[:,1:].values[:,0].reshape(4,4)))\n",
    "print(np.std(shrink(true.b1.values.reshape(40,40),4,4) - re.iloc[:,1:].values[:,1].reshape(4,4)))\n",
    "print(np.std(shrink(true.b2.values.reshape(40,40),4,4) - re.iloc[:,1:].values[:,2].reshape(4,4)))"
   ]
  },
  {
   "cell_type": "code",
   "execution_count": null,
   "metadata": {},
   "outputs": [],
   "source": []
  },
  {
   "cell_type": "code",
   "execution_count": null,
   "metadata": {},
   "outputs": [],
   "source": []
  },
  {
   "cell_type": "code",
   "execution_count": 60,
   "metadata": {},
   "outputs": [
    {
     "data": {
      "image/png": "[encoded data removed]",
      "text/plain": [
       "<Figure size 1296x288 with 6 Axes>"
      ]
     },
     "metadata": {
      "needs_background": "light"
     },
     "output_type": "display_data"
    }
   ],
   "source": [
    "plot_s(re.iloc[:,1:].values.T*100000,sub_title=['4 X 4','b1 est','b2 est'],vmin=0,vmax=4,cmap=\"hot\")\n",
    "plt.savefig('4 4 grid.png',dpi=300)"
   ]
  },
  {
   "cell_type": "code",
   "execution_count": null,
   "metadata": {},
   "outputs": [],
   "source": []
  },
  {
   "cell_type": "code",
   "execution_count": 213,
   "metadata": {},
   "outputs": [],
   "source": [
    "est_b0 = re.iloc[:,1:].values[:,0].reshape(4,4).repeat(10, axis = 0).repeat(10, axis = 1).reshape(-1)\n",
    "est_b1 = re.iloc[:,1:].values[:,1].reshape(4,4).repeat(10, axis = 0).repeat(10, axis = 1).reshape(-1)\n",
    "est_b2 = re.iloc[:,1:].values[:,2].reshape(4,4).repeat(10, axis = 0).repeat(10, axis = 1).reshape(-1)\n"
   ]
  },
  {
   "cell_type": "code",
   "execution_count": 239,
   "metadata": {},
   "outputs": [
    {
     "name": "stdout",
     "output_type": "stream",
     "text": [
      "MLM b0 est - b0: -0.01\n",
      "MLM b1 est - b1: -0.02\n",
      "MLM b2 est - b2: -0.02\n"
     ]
    }
   ],
   "source": [
    "print(\"MLM b0 est - b0:\", np.round(np.mean(est_b0 - true.b0),2))\n",
    "print(\"MLM b1 est - b1:\", np.round(np.mean(est_b1 - true.b1),2))\n",
    "print(\"MLM b2 est - b2:\", np.round(np.mean(est_b2 - true.b2),2))"
   ]
  },
  {
   "cell_type": "code",
   "execution_count": 240,
   "metadata": {},
   "outputs": [
    {
     "name": "stdout",
     "output_type": "stream",
     "text": [
      "MLM b0 est - b0: 0.8\n",
      "MLM b1 est - b1: 0.37\n",
      "MLM b2 est - b2: 0.01\n"
     ]
    }
   ],
   "source": [
    "from sklearn.metrics import mean_squared_error\n",
    "\n",
    "print(\"MLM b0 est - b0:\", np.round(np.std(est_b0 - true.b0),2))\n",
    "print(\"MLM b1 est - b1:\", np.round(np.std(est_b1 - true.b1),2))\n",
    "print(\"MLM b2 est - b2:\", np.round(np.std(est_b2 - true.b2),2))"
   ]
  },
  {
   "cell_type": "code",
   "execution_count": null,
   "metadata": {},
   "outputs": [],
   "source": []
  },
  {
   "cell_type": "code",
   "execution_count": 61,
   "metadata": {},
   "outputs": [
    {
     "data": {
      "image/png": "[encoded data removed]",
      "text/plain": [
       "<Figure size 1296x288 with 6 Axes>"
      ]
     },
     "metadata": {
      "needs_background": "light"
     },
     "output_type": "display_data"
    }
   ],
   "source": [
    "size=8\n",
    "re_s = pd.read_csv(\"re_small.csv\")\n",
    "fe_s = pd.read_csv(\"fe_small.csv\")\n",
    "\n",
    "re_s.iloc[:,1:] = re_s.iloc[:,1:] + fe_s.iloc[:,1:].values\n",
    "\n",
    "re_s.columns = ['id','Intercept','beta1','beta2']\n",
    "\n",
    "plot_s(re_s.iloc[:,1:].values.T,sub_title=[r'MLM (8X8) $\\beta_0$ est',r'MLM (8X8) $\\beta_1$ est',\n",
    "                                           r'MLM (8X8) $\\beta_2$ est'],vmin=0,vmax=4)\n",
    "\n",
    "plt.savefig(\"MLM est 8 by 8.png\",dpi=300)"
   ]
  },
  {
   "cell_type": "code",
   "execution_count": null,
   "metadata": {},
   "outputs": [],
   "source": []
  },
  {
   "cell_type": "code",
   "execution_count": 333,
   "metadata": {},
   "outputs": [
    {
     "data": {
      "image/png": "[encoded data removed]",
      "text/plain": [
       "<Figure size 1296x288 with 6 Axes>"
      ]
     },
     "metadata": {
      "needs_background": "light"
     },
     "output_type": "display_data"
    }
   ],
   "source": [
    "plot_s([shrink(true.b0.values.reshape(40,40),8,8).reshape(-1),\n",
    " shrink(true.b1.values.reshape(40,40),8,8).reshape(-1),\n",
    " shrink(true.b2.values.reshape(40,40),8,8).reshape(-1)],sub_title=[r'True (8X8) $\\beta_0$',\n",
    "                                           r'True (8X8) $\\beta_1$',\n",
    "                                           r'True (8X8) $\\beta_2$'],vmin=0,vmax=4)\n",
    "\n",
    "\n"
   ]
  },
  {
   "cell_type": "code",
   "execution_count": 334,
   "metadata": {},
   "outputs": [
    {
     "name": "stdout",
     "output_type": "stream",
     "text": [
      "-0.0017459000609366627\n",
      "-0.015096644799989914\n",
      "-0.01578622834991048\n",
      "0.06469577043070457\n",
      "0.13154510421488871\n",
      "0.018963468054893986\n"
     ]
    }
   ],
   "source": [
    "print(np.mean(shrink(true.b0.values.reshape(40,40),8,8) - re_s.iloc[:,1:].values[:,0].reshape(8,8)))\n",
    "print(np.mean(shrink(true.b1.values.reshape(40,40),8,8) - re_s.iloc[:,1:].values[:,1].reshape(8,8)))\n",
    "print(np.mean(shrink(true.b2.values.reshape(40,40),8,8) - re_s.iloc[:,1:].values[:,2].reshape(8,8)))\n",
    "\n",
    "print(np.std(shrink(true.b0.values.reshape(40,40),8,8) - re_s.iloc[:,1:].values[:,0].reshape(8,8)))\n",
    "print(np.std(shrink(true.b1.values.reshape(40,40),8,8) - re_s.iloc[:,1:].values[:,1].reshape(8,8)))\n",
    "print(np.std(shrink(true.b2.values.reshape(40,40),8,8) - re_s.iloc[:,1:].values[:,2].reshape(8,8)))"
   ]
  },
  {
   "cell_type": "code",
   "execution_count": null,
   "metadata": {},
   "outputs": [],
   "source": []
  },
  {
   "cell_type": "code",
   "execution_count": 62,
   "metadata": {},
   "outputs": [
    {
     "data": {
      "image/png": "[encoded data removed]",
      "text/plain": [
       "<Figure size 1296x288 with 6 Axes>"
      ]
     },
     "metadata": {
      "needs_background": "light"
     },
     "output_type": "display_data"
    }
   ],
   "source": [
    "plot_s(re_s.iloc[:,1:].values.T*100000,sub_title=['8 X 8','b1 est','b2 est'],vmin=0,vmax=4,cmap=\"hot\")\n",
    "\n",
    "plt.savefig('8 8 grid.png',dpi=300)"
   ]
  },
  {
   "cell_type": "code",
   "execution_count": null,
   "metadata": {},
   "outputs": [],
   "source": []
  },
  {
   "cell_type": "code",
   "execution_count": 219,
   "metadata": {},
   "outputs": [],
   "source": [
    "est_b0_s = re_s.iloc[:,1:].values[:,0].reshape(8,8).repeat(5, axis = 0).repeat(5, axis = 1).reshape(-1)\n",
    "est_b1_s = re_s.iloc[:,1:].values[:,1].reshape(8,8).repeat(5, axis = 0).repeat(5, axis = 1).reshape(-1)\n",
    "est_b2_s = re_s.iloc[:,1:].values[:,2].reshape(8,8).repeat(5, axis = 0).repeat(5, axis = 1).reshape(-1)\n"
   ]
  },
  {
   "cell_type": "code",
   "execution_count": 220,
   "metadata": {},
   "outputs": [
    {
     "name": "stdout",
     "output_type": "stream",
     "text": [
      "MLM b0 est - b0: 0.001745900060936652\n",
      "MLM b1 est - b1: 0.015096644799989845\n",
      "MLM b2 est - b2: 0.015786228349910433\n"
     ]
    }
   ],
   "source": [
    "print(\"MLM b0 est - b0:\", np.mean(est_b0_s - true.b0))\n",
    "print(\"MLM b1 est - b1:\", np.mean(est_b1_s - true.b1))\n",
    "print(\"MLM b2 est - b2:\", np.mean(est_b2_s - true.b2))"
   ]
  },
  {
   "cell_type": "code",
   "execution_count": null,
   "metadata": {},
   "outputs": [],
   "source": [
    "plot_2s([np.array(mlm_resid).mean(axis=1), np.array(mlm_resid_s)[:,2]],vmin=-2,vmax=2)"
   ]
  },
  {
   "cell_type": "code",
   "execution_count": 235,
   "metadata": {},
   "outputs": [
    {
     "name": "stdout",
     "output_type": "stream",
     "text": [
      "MLM b0 est - b0: 0.47135731375445206\n",
      "MLM b1 est - b1: 0.23120785835243524\n",
      "MLM b2 est - b2: 0.018963468054894038\n"
     ]
    }
   ],
   "source": [
    "print(\"MLM b0 est - b0:\", np.std(est_b0_s - true.b0))\n",
    "print(\"MLM b1 est - b1:\", np.std(est_b1_s - true.b1))\n",
    "print(\"MLM b2 est - b2:\", np.std(est_b2_s - true.b2))"
   ]
  },
  {
   "cell_type": "code",
   "execution_count": 243,
   "metadata": {},
   "outputs": [
    {
     "data": {
      "text/html": [
       "<div>\n",
       "<style scoped>\n",
       "    .dataframe tbody tr th:only-of-type {\n",
       "        vertical-align: middle;\n",
       "    }\n",
       "\n",
       "    .dataframe tbody tr th {\n",
       "        vertical-align: top;\n",
       "    }\n",
       "\n",
       "    .dataframe thead th {\n",
       "        text-align: right;\n",
       "    }\n",
       "</style>\n",
       "<table border=\"1\" class=\"dataframe\">\n",
       "  <thead>\n",
       "    <tr style=\"text-align: right;\">\n",
       "      <th></th>\n",
       "      <th>id</th>\n",
       "      <th>Intercept</th>\n",
       "      <th>beta1</th>\n",
       "      <th>beta2</th>\n",
       "    </tr>\n",
       "  </thead>\n",
       "  <tbody>\n",
       "    <tr>\n",
       "      <th>0</th>\n",
       "      <td>1</td>\n",
       "      <td>2.812956</td>\n",
       "      <td>2.165985</td>\n",
       "      <td>1.995137</td>\n",
       "    </tr>\n",
       "    <tr>\n",
       "      <th>1</th>\n",
       "      <td>2</td>\n",
       "      <td>3.417339</td>\n",
       "      <td>2.326556</td>\n",
       "      <td>2.003821</td>\n",
       "    </tr>\n",
       "    <tr>\n",
       "      <th>2</th>\n",
       "      <td>3</td>\n",
       "      <td>3.425882</td>\n",
       "      <td>1.932402</td>\n",
       "      <td>1.972925</td>\n",
       "    </tr>\n",
       "    <tr>\n",
       "      <th>3</th>\n",
       "      <td>4</td>\n",
       "      <td>3.138158</td>\n",
       "      <td>2.340931</td>\n",
       "      <td>1.995566</td>\n",
       "    </tr>\n",
       "    <tr>\n",
       "      <th>4</th>\n",
       "      <td>5</td>\n",
       "      <td>2.028835</td>\n",
       "      <td>2.205085</td>\n",
       "      <td>1.994882</td>\n",
       "    </tr>\n",
       "    <tr>\n",
       "      <th>...</th>\n",
       "      <td>...</td>\n",
       "      <td>...</td>\n",
       "      <td>...</td>\n",
       "      <td>...</td>\n",
       "    </tr>\n",
       "    <tr>\n",
       "      <th>375</th>\n",
       "      <td>376</td>\n",
       "      <td>2.580244</td>\n",
       "      <td>1.879540</td>\n",
       "      <td>1.980446</td>\n",
       "    </tr>\n",
       "    <tr>\n",
       "      <th>376</th>\n",
       "      <td>377</td>\n",
       "      <td>2.915289</td>\n",
       "      <td>1.857693</td>\n",
       "      <td>1.985411</td>\n",
       "    </tr>\n",
       "    <tr>\n",
       "      <th>377</th>\n",
       "      <td>378</td>\n",
       "      <td>3.209590</td>\n",
       "      <td>2.263565</td>\n",
       "      <td>1.985416</td>\n",
       "    </tr>\n",
       "    <tr>\n",
       "      <th>378</th>\n",
       "      <td>379</td>\n",
       "      <td>3.203251</td>\n",
       "      <td>2.555179</td>\n",
       "      <td>2.007172</td>\n",
       "    </tr>\n",
       "    <tr>\n",
       "      <th>379</th>\n",
       "      <td>380</td>\n",
       "      <td>2.936816</td>\n",
       "      <td>2.856065</td>\n",
       "      <td>2.019713</td>\n",
       "    </tr>\n",
       "  </tbody>\n",
       "</table>\n",
       "<p>380 rows × 4 columns</p>\n",
       "</div>"
      ],
      "text/plain": [
       "      id  Intercept     beta1     beta2\n",
       "0      1   2.812956  2.165985  1.995137\n",
       "1      2   3.417339  2.326556  2.003821\n",
       "2      3   3.425882  1.932402  1.972925\n",
       "3      4   3.138158  2.340931  1.995566\n",
       "4      5   2.028835  2.205085  1.994882\n",
       "..   ...        ...       ...       ...\n",
       "375  376   2.580244  1.879540  1.980446\n",
       "376  377   2.915289  1.857693  1.985411\n",
       "377  378   3.209590  2.263565  1.985416\n",
       "378  379   3.203251  2.555179  2.007172\n",
       "379  380   2.936816  2.856065  2.019713\n",
       "\n",
       "[380 rows x 4 columns]"
      ]
     },
     "execution_count": 243,
     "metadata": {},
     "output_type": "execute_result"
    }
   ],
   "source": [
    "re_s"
   ]
  },
  {
   "cell_type": "code",
   "execution_count": null,
   "metadata": {},
   "outputs": [],
   "source": []
  },
  {
   "cell_type": "code",
   "execution_count": null,
   "metadata": {},
   "outputs": [],
   "source": []
  },
  {
   "cell_type": "code",
   "execution_count": null,
   "metadata": {},
   "outputs": [],
   "source": []
  },
  {
   "cell_type": "code",
   "execution_count": null,
   "metadata": {},
   "outputs": [],
   "source": []
  },
  {
   "cell_type": "code",
   "execution_count": null,
   "metadata": {},
   "outputs": [],
   "source": []
  },
  {
   "cell_type": "code",
   "execution_count": null,
   "metadata": {},
   "outputs": [],
   "source": []
  },
  {
   "cell_type": "code",
   "execution_count": null,
   "metadata": {},
   "outputs": [],
   "source": []
  },
  {
   "cell_type": "code",
   "execution_count": null,
   "metadata": {},
   "outputs": [],
   "source": []
  },
  {
   "cell_type": "code",
   "execution_count": null,
   "metadata": {},
   "outputs": [],
   "source": []
  },
  {
   "cell_type": "code",
   "execution_count": null,
   "metadata": {},
   "outputs": [],
   "source": []
  },
  {
   "cell_type": "code",
   "execution_count": null,
   "metadata": {},
   "outputs": [],
   "source": []
  },
  {
   "cell_type": "code",
   "execution_count": null,
   "metadata": {},
   "outputs": [],
   "source": []
  },
  {
   "cell_type": "code",
   "execution_count": null,
   "metadata": {},
   "outputs": [],
   "source": []
  },
  {
   "cell_type": "code",
   "execution_count": 261,
   "metadata": {},
   "outputs": [
    {
     "data": {
      "image/png": "[encoded data removed]",
      "text/plain": [
       "<Figure size 1296x288 with 6 Axes>"
      ]
     },
     "metadata": {
      "needs_background": "light"
     },
     "output_type": "display_data"
    }
   ],
   "source": [
    "size=10\n",
    "re_s = pd.read_csv(\"re_smallest.csv\")\n",
    "fe_s = pd.read_csv(\"fe_smallest.csv\")\n",
    "\n",
    "re_s.iloc[:,1:] = re_s.iloc[:,1:] + fe_s.iloc[:,1:].values\n",
    "\n",
    "re_s.columns = ['id','Intercept','beta1','beta2']\n",
    "\n",
    "plot_s(re_s.iloc[:,1:].values.T,sub_title=[r'MLM (10X10) $\\beta_0$',\n",
    "                                           r'MLM (10X10) $\\beta_1$',r'MLM (10X10) $\\beta_0$'],vmin=0,vmax=4)"
   ]
  },
  {
   "cell_type": "code",
   "execution_count": 258,
   "metadata": {},
   "outputs": [],
   "source": [
    "est_b0_s = re_s.iloc[:,1:].values[:,0].reshape(size,size).repeat(40/size, axis = 0).repeat(40/size, axis = 1).reshape(-1)\n",
    "est_b1_s = re_s.iloc[:,1:].values[:,1].reshape(size,size).repeat(40/size, axis = 0).repeat(40/size, axis = 1).reshape(-1)\n",
    "est_b2_s = re_s.iloc[:,1:].values[:,2].reshape(size,size).repeat(40/size, axis = 0).repeat(40/size, axis = 1).reshape(-1)\n"
   ]
  },
  {
   "cell_type": "code",
   "execution_count": 259,
   "metadata": {},
   "outputs": [
    {
     "name": "stdout",
     "output_type": "stream",
     "text": [
      "MLM b0 est - b0: 0.006975650905833054\n",
      "MLM b1 est - b1: 0.010992801996314115\n",
      "MLM b2 est - b2: -0.0033315731475596997\n"
     ]
    }
   ],
   "source": [
    "print(\"MLM b0 est - b0:\", np.mean(est_b0_s - true.b0))\n",
    "print(\"MLM b1 est - b1:\", np.mean(est_b1_s - true.b1))\n",
    "print(\"MLM b2 est - b2:\", np.mean(est_b2_s - true.b2))"
   ]
  },
  {
   "cell_type": "code",
   "execution_count": 260,
   "metadata": {},
   "outputs": [
    {
     "name": "stdout",
     "output_type": "stream",
     "text": [
      "MLM b0 est - b0: 0.4078653336124828\n",
      "MLM b1 est - b1: 0.20805298040226214\n",
      "MLM b2 est - b2: 0.010128890369834415\n"
     ]
    }
   ],
   "source": [
    "print(\"MLM b0 est - b0:\", np.std(est_b0_s - true.b0))\n",
    "print(\"MLM b1 est - b1:\", np.std(est_b1_s - true.b1))\n",
    "print(\"MLM b2 est - b2:\", np.std(est_b2_s - true.b2))"
   ]
  },
  {
   "cell_type": "code",
   "execution_count": null,
   "metadata": {},
   "outputs": [],
   "source": []
  },
  {
   "cell_type": "code",
   "execution_count": 46,
   "metadata": {},
   "outputs": [],
   "source": [
    "mlm_resid = pd.read_csv(\"full_res.csv\").values\n",
    "mlm_resid_s = pd.read_csv(\"full_res_s.csv\").values"
   ]
  },
  {
   "cell_type": "code",
   "execution_count": 47,
   "metadata": {},
   "outputs": [],
   "source": [
    "size=40\n",
    "u = np.array([np.linspace(0,size-1,num=size)]*size).reshape(-1)\n",
    "v = np.array([np.linspace(0,size-1,num=size)]*size).T.reshape(-1)\n",
    "coords = list(zip(u,v))\n",
    "df = pd.DataFrame(coords,columns=['x','y'])\n",
    "gdf = gpd.GeoDataFrame(\n",
    "        df, geometry=gpd.points_from_xy(df['x'], df['y']))"
   ]
  },
  {
   "cell_type": "code",
   "execution_count": 45,
   "metadata": {},
   "outputs": [],
   "source": [
    "from libpysal.weights import KNN\n",
    "import spreg"
   ]
  },
  {
   "cell_type": "code",
   "execution_count": 175,
   "metadata": {},
   "outputs": [
    {
     "name": "stderr",
     "output_type": "stream",
     "text": [
      "/Users/ziqi/opt/anaconda3/lib/python3.7/site-packages/libpysal/weights/util.py:1073: ShapelyDeprecationWarning: The array interface is deprecated and will no longer work in Shapely 2.0. Convert the '.coords' to a numpy array instead.\n",
      "  data = np.vstack([np.array(shape.centroid) for shape in first_choice])\n"
     ]
    },
    {
     "name": "stdout",
     "output_type": "stream",
     "text": [
      "CPU times: user 1min 48s, sys: 336 ms, total: 1min 48s\n",
      "Wall time: 1min 49s\n"
     ]
    }
   ],
   "source": [
    "%%time\n",
    "w_res = KNN.from_dataframe(gdf,k=8)\n",
    "w_res.transform = 'R'\n",
    "\n",
    "from esda.moran import Moran\n",
    "\n",
    "mlm_mi = 0\n",
    "mlm_mi_s = 0\n",
    "for j in range(1000):\n",
    "    mlm_mi += Moran(mlm_resid[:,j],  w_res).I\n",
    "    mlm_mi_s +=  Moran(mlm_resid_s[:,j],  w_res).I\n",
    "    \n",
    "    #print(Moran(mlm_resid[:,j],  w_res).I, Moran(mlm_resid_s[:,j],  w_res).I)"
   ]
  },
  {
   "cell_type": "code",
   "execution_count": 176,
   "metadata": {},
   "outputs": [
    {
     "name": "stdout",
     "output_type": "stream",
     "text": [
      "MLM 4X4 Moran's I: 0.3043592522960473\n",
      "MLM 8X8 Moran's I: 0.07020911312168078\n"
     ]
    }
   ],
   "source": [
    "print(\"MLM 4X4 Moran's I:\", mlm_mi/1000)\n",
    "print(\"MLM 8X8 Moran's I:\", mlm_mi_s/1000)"
   ]
  },
  {
   "cell_type": "code",
   "execution_count": 56,
   "metadata": {},
   "outputs": [],
   "source": [
    "def plot_2s(b,sub_title=['','','',''],vmin=None,vmax=None):\n",
    "    size=40\n",
    "    k = len(b)\n",
    "    fig, axs = plt.subplots(1, k,figsize=(6*k,4))\n",
    "    for i in range(k):\n",
    "        if i == 0:\n",
    "            ax = axs[i].imshow(b[i].reshape(size,size),\n",
    "                               cmap=plt.cm.get_cmap('viridis',21),vmin=vmin,vmax=vmax)\n",
    "        else:\n",
    "            ax = axs[i].imshow(b[i].reshape(size,size),cmap=plt.cm.get_cmap('viridis',21),vmin=vmin,vmax=vmax)\n",
    "        axs[i].set_title(sub_title[i],fontsize=16)\n",
    "        fig.colorbar(ax, ax=axs[i])\n",
    "\n",
    "        axs[i].set_xticks(np.arange(-0.5, 40, 5))\n",
    "        axs[i].set_yticks(np.arange(-0.5, 40, 5))\n",
    "        axs[i].set_xticklabels([])\n",
    "        axs[i].set_yticklabels([])\n",
    "        \n",
    "        axs[i].tick_params(axis='x', colors=(0,0,0,0))\n",
    "        axs[i].tick_params(axis='y', colors=(0,0,0,0))"
   ]
  },
  {
   "cell_type": "code",
   "execution_count": 57,
   "metadata": {},
   "outputs": [
    {
     "data": {
      "image/png": "[encoded data removed]",
      "text/plain": [
       "<Figure size 864x288 with 4 Axes>"
      ]
     },
     "metadata": {
      "needs_background": "light"
     },
     "output_type": "display_data"
    }
   ],
   "source": [
    "plot_2s([np.array(mlm_resid)[:,2], np.array(mlm_resid_s)[:,2]],['MLM (4X4)','MLM (8X8)'],vmin=-2,vmax=2)\n",
    "plt.savefig('MLM res.png',dpi=300)"
   ]
  },
  {
   "cell_type": "code",
   "execution_count": 270,
   "metadata": {},
   "outputs": [
    {
     "data": {
      "text/plain": [
       "(1600,)"
      ]
     },
     "execution_count": 270,
     "metadata": {},
     "output_type": "execute_result"
    }
   ],
   "source": [
    "np.array(mlm_resid)[:,2].shape"
   ]
  },
  {
   "cell_type": "code",
   "execution_count": null,
   "metadata": {},
   "outputs": [],
   "source": []
  },
  {
   "cell_type": "code",
   "execution_count": 281,
   "metadata": {},
   "outputs": [],
   "source": [
    "true = pd.read_csv(\"sim_data_small.csv\")"
   ]
  },
  {
   "cell_type": "code",
   "execution_count": 311,
   "metadata": {},
   "outputs": [],
   "source": []
  },
  {
   "cell_type": "code",
   "execution_count": null,
   "metadata": {},
   "outputs": [],
   "source": []
  },
  {
   "cell_type": "code",
   "execution_count": 301,
   "metadata": {},
   "outputs": [
    {
     "name": "stdout",
     "output_type": "stream",
     "text": [
      "5.0\n",
      "5.0\n",
      "5.0\n"
     ]
    },
    {
     "data": {
      "image/png": "[encoded data removed]",
      "text/plain": [
       "<Figure size 1296x288 with 6 Axes>"
      ]
     },
     "metadata": {
      "needs_background": "light"
     },
     "output_type": "display_data"
    }
   ],
   "source": [
    "size=8\n",
    "\n",
    "plot_s([shrink(true.b0.values.reshape(40,40),8,8).reshape(-1),\n",
    " shrink(true.b1.values.reshape(40,40),8,8).reshape(-1),\n",
    " shrink(true.b2.values.reshape(40,40),8,8).reshape(-1)],sub_title=[r'True (8X8) $\\beta_0$',\n",
    "                                           r'True (8X8) $\\beta_1$',\n",
    "                                           r'True (8X8) $\\beta_0$'],vmin=0,vmax=4)"
   ]
  },
  {
   "cell_type": "code",
   "execution_count": 310,
   "metadata": {},
   "outputs": [
    {
     "name": "stdout",
     "output_type": "stream",
     "text": [
      "5.0\n",
      "-0.0017459000609366627\n",
      "5.0\n",
      "-0.015096644799989914\n",
      "5.0\n",
      "-0.01578622834991048\n",
      "5.0\n",
      "0.06469577043070457\n",
      "5.0\n",
      "0.13154510421488871\n",
      "5.0\n",
      "0.018963468054893986\n"
     ]
    }
   ],
   "source": []
  },
  {
   "cell_type": "code",
   "execution_count": 305,
   "metadata": {},
   "outputs": [
    {
     "data": {
      "text/plain": [
       "(1600,)"
      ]
     },
     "execution_count": 305,
     "metadata": {},
     "output_type": "execute_result"
    }
   ],
   "source": [
    "est_b0_s.shape"
   ]
  },
  {
   "cell_type": "code",
   "execution_count": null,
   "metadata": {},
   "outputs": [],
   "source": []
  }
 ],
 "metadata": {
  "kernelspec": {
   "display_name": "Python 3",
   "language": "python",
   "name": "python3"
  },
  "language_info": {
   "codemirror_mode": {
    "name": "ipython",
    "version": 3
   },
   "file_extension": ".py",
   "mimetype": "text/x-python",
   "name": "python",
   "nbconvert_exporter": "python",
   "pygments_lexer": "ipython3",
   "version": "3.7.6"
  }
 },
 "nbformat": 4,
 "nbformat_minor": 4
}
